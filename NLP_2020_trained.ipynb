{
 "cells": [
  {
   "cell_type": "code",
   "execution_count": 5,
   "metadata": {
    "colab": {
     "base_uri": "https://localhost:8080/",
     "height": 34
    },
    "colab_type": "code",
    "id": "Jr1wpeF_iS1A",
    "outputId": "c0d21339-a7b1-49a7-fbcd-fa98d5b4e30c"
   },
   "outputs": [
    {
     "name": "stderr",
     "output_type": "stream",
     "text": [
      "Using TensorFlow backend.\n"
     ]
    }
   ],
   "source": [
    "from keras.preprocessing.text import Tokenizer\n",
    "from keras.preprocessing.sequence import pad_sequences\n",
    "from keras.datasets import imdb\n",
    "from keras.models import Sequential\n",
    "from keras.layers import Dense\n",
    "from keras.layers import Flatten\n",
    "from keras.layers import Embedding"
   ]
  },
  {
   "cell_type": "code",
   "execution_count": 6,
   "metadata": {
    "colab": {
     "base_uri": "https://localhost:8080/",
     "height": 71
    },
    "colab_type": "code",
    "id": "YDvQ1ZvniS1K",
    "outputId": "aff8e7ad-0d00-4dd9-f325-f1214129e3eb"
   },
   "outputs": [
    {
     "name": "stderr",
     "output_type": "stream",
     "text": [
      "/usr/local/lib/python3.6/dist-packages/statsmodels/tools/_testing.py:19: FutureWarning: pandas.util.testing is deprecated. Use the functions in the public API at pandas.testing instead.\n",
      "  import pandas.util.testing as tm\n"
     ]
    }
   ],
   "source": [
    "import gensim\n",
    "import numpy as np\n",
    "import pandas as pd \n",
    "\n",
    "from gensim import corpora\n",
    "from gensim.utils import simple_preprocess\n",
    "from gensim.parsing.preprocessing import preprocess_string, strip_short, strip_tags, remove_stopwords, strip_punctuation,strip_numeric, strip_multiple_whitespaces\n",
    "from gensim import models\n",
    "\n",
    "from pprint import pprint  # pretty-printer\n",
    "from collections import defaultdict\n",
    "\n",
    "from sklearn import preprocessing\n",
    "from sklearn.model_selection import train_test_split\n",
    "from sklearn.metrics import roc_curve\n",
    "from sklearn.metrics import roc_auc_score\n",
    "\n",
    "import seaborn as sns\n",
    "import matplotlib.pyplot as plt"
   ]
  },
  {
   "cell_type": "code",
   "execution_count": 7,
   "metadata": {
    "colab": {
     "base_uri": "https://localhost:8080/",
     "height": 122
    },
    "colab_type": "code",
    "id": "iPW7y5nKje7_",
    "outputId": "6a0c92a0-7604-4578-fd62-8bccc52bd1e8"
   },
   "outputs": [
    {
     "name": "stdout",
     "output_type": "stream",
     "text": [
      "Go to this URL in a browser: https://accounts.google.com/o/oauth2/auth?client_id=947318989803-6bn6qk8qdgf4n4g3pfee6491hc0brc4i.apps.googleusercontent.com&redirect_uri=urn%3aietf%3awg%3aoauth%3a2.0%3aoob&response_type=code&scope=email%20https%3a%2f%2fwww.googleapis.com%2fauth%2fdocs.test%20https%3a%2f%2fwww.googleapis.com%2fauth%2fdrive%20https%3a%2f%2fwww.googleapis.com%2fauth%2fdrive.photos.readonly%20https%3a%2f%2fwww.googleapis.com%2fauth%2fpeopleapi.readonly\n",
      "\n",
      "Enter your authorization code:\n",
      "··········\n",
      "Mounted at /content/drive\n"
     ]
    }
   ],
   "source": [
    "from google.colab import drive\n",
    "drive.mount('/content/drive')"
   ]
  },
  {
   "cell_type": "code",
   "execution_count": 8,
   "metadata": {
    "colab": {
     "base_uri": "https://localhost:8080/",
     "height": 34
    },
    "colab_type": "code",
    "id": "54D8JiuKkYXB",
    "outputId": "69436e80-abc4-45ae-9c65-aa379848f959"
   },
   "outputs": [
    {
     "name": "stdout",
     "output_type": "stream",
     "text": [
      "/content/drive/My Drive/nlp-2020\n"
     ]
    }
   ],
   "source": [
    "%cd /content/drive/My\\ Drive/nlp-2020\n"
   ]
  },
  {
   "cell_type": "markdown",
   "metadata": {
    "colab_type": "text",
    "id": "FG4sFD91iS1O"
   },
   "source": [
    "# Abstract"
   ]
  },
  {
   "cell_type": "markdown",
   "metadata": {
    "colab_type": "text",
    "id": "dTQ1sdd5iS1P"
   },
   "source": [
    "# Introduction"
   ]
  },
  {
   "cell_type": "markdown",
   "metadata": {
    "colab_type": "text",
    "id": "0-3-vfpXiS1Q"
   },
   "source": [
    "# Data analysis"
   ]
  },
  {
   "cell_type": "markdown",
   "metadata": {
    "colab_type": "text",
    "id": "Cv6prKXCiS1R"
   },
   "source": [
    "## IMDB Reviews dataset and Preprocessing"
   ]
  },
  {
   "cell_type": "markdown",
   "metadata": {
    "colab_type": "text",
    "id": "0sFPrvwgiS1S"
   },
   "source": [
    "In this project, we will make use of the <b>IMDB reviews dataset</b>. The data set was acquired from a [Kaggle competition](https://www.kaggle.com/lakshmi25npathi/imdb-dataset-of-50k-movie-reviews). Overall, the dataset consists of 50000 movie reviews from IMDB and their corresponding sentiments. The sentiment can be whether positive or negative. Additionally, the sentiments ratio is 50-50 with half the reviews labelled as positive and the other half is negative. This is particularly useful for training since we will not have to deal with the imbalance in the dataset.\n",
    "\n",
    "For training procedure, we will encode the sentiment values, assigning 1s to positives and 0s to negatives.\n",
    "\n",
    "Let's take a quick glance at the dataset."
   ]
  },
  {
   "cell_type": "code",
   "execution_count": 492,
   "metadata": {
    "colab": {
     "base_uri": "https://localhost:8080/",
     "height": 68
    },
    "colab_type": "code",
    "id": "piOrn5zwiS1T",
    "outputId": "b2c1bdcb-0a2b-4b8f-a8fc-9375f2c598d0"
   },
   "outputs": [
    {
     "name": "stdout",
     "output_type": "stream",
     "text": [
      "positive    25000\n",
      "negative    25000\n",
      "Name: sentiment, dtype: int64\n"
     ]
    }
   ],
   "source": [
    "imdb = pd.read_csv('imdb.csv')\n",
    "\n",
    "print(imdb.sentiment.value_counts())\n",
    "# converting type of columns to 'category'\n",
    "imdb['sentiment'] = imdb['sentiment'].astype('category')\n",
    "# Assigning numerical values and storing in another column\n",
    "imdb['sentiment'] = imdb['sentiment'].cat.codes\n"
   ]
  },
  {
   "cell_type": "markdown",
   "metadata": {
    "colab_type": "text",
    "id": "uVaFPGDOiS1Y"
   },
   "source": [
    "Let's checkout the sample length distribution."
   ]
  },
  {
   "cell_type": "code",
   "execution_count": 493,
   "metadata": {
    "colab": {
     "base_uri": "https://localhost:8080/",
     "height": 404
    },
    "colab_type": "code",
    "id": "PTtFFYQRiS1Z",
    "outputId": "88fdd80c-f3be-4d31-c761-40ebce7a4988"
   },
   "outputs": [
    {
     "data": {
      "image/png": "[encoded data removed]",
      "text/plain": [
       "<Figure size 720x432 with 1 Axes>"
      ]
     },
     "metadata": {
      "needs_background": "light",
      "tags": []
     },
     "output_type": "display_data"
    }
   ],
   "source": [
    "pal = sns.dark_palette(\"seagreen\")\n",
    "sns.set_palette(pal)\n",
    "\n",
    "plt.figure(figsize=(10, 6))\n",
    "sns.distplot([len(sample) for sample in list(imdb['review'])], kde=False, bins=40, color=\"black\")\n",
    "plt.xlabel('Length of samples')\n",
    "plt.ylabel('Number of samples')\n",
    "plt.title('Sample length distribution')\n",
    "plt.show()"
   ]
  },
  {
   "cell_type": "markdown",
   "metadata": {
    "colab_type": "text",
    "id": "V9PnV0GPiS1e"
   },
   "source": [
    "The reviews have an average length of 500 words. However, we also need to check out the number of unique words and their frequencies. "
   ]
  },
  {
   "cell_type": "code",
   "execution_count": 494,
   "metadata": {
    "colab": {
     "base_uri": "https://localhost:8080/",
     "height": 912
    },
    "colab_type": "code",
    "id": "U_MUHt_JiS1f",
    "outputId": "436f5fe0-7522-42be-f46c-bdaa741b2c6d"
   },
   "outputs": [
    {
     "data": {
      "image/png": "[encoded data removed]",
      "text/plain": [
       "<Figure size 1080x1080 with 1 Axes>"
      ]
     },
     "metadata": {
      "needs_background": "light",
      "tags": []
     },
     "output_type": "display_data"
    }
   ],
   "source": [
    "#Codes taken from https://www.kaggle.com/irinaabdullaeva/imdb-reviews-with-keras#Build-the-model\n",
    "from sklearn.feature_extraction.text import CountVectorizer\n",
    "def counts_word_freq(corpus):\n",
    "\n",
    "    # Note that `ngram_range=(1, 1)` means we want to extract Unigrams, i.e. tokens.\n",
    "    ngram_vectorizer = CountVectorizer(analyzer='word')\n",
    "    # X matrix where the row represents sentences and column is our one-hot vector for each token in our vocabulary\n",
    "    X = ngram_vectorizer.fit_transform(corpus)\n",
    "\n",
    "    # Vocabulary\n",
    "\n",
    "    all_ngrams = ngram_vectorizer.get_feature_names()\n",
    "    num_ngrams = min(50, len(all_ngrams))\n",
    "    all_counts = X.sum(axis=0).tolist()[0]\n",
    "\n",
    "    all_ngrams, all_counts = zip(*[(n, c) for c, n in sorted(zip(all_counts, all_ngrams), reverse=True)])\n",
    "    ngrams = all_ngrams[:num_ngrams]\n",
    "    counts = all_counts[:num_ngrams]\n",
    "\n",
    "    idx = np.arange(num_ngrams)\n",
    "    \n",
    "    return idx, ngrams, counts\n",
    "    \n",
    "\n",
    "idx, ngrams, counts = counts_word_freq(list(imdb[\"review\"]))\n",
    "\n",
    "# Let's now plot a frequency distribution plot of the most seen words in the corpus.\n",
    "plt.figure(figsize=(15, 15))\n",
    "sns.barplot(idx, counts, color=\"black\")\n",
    "plt.xlabel('N-grams')\n",
    "plt.ylabel('Frequencies')\n",
    "plt.title('Frequency distribution of ngrams')\n",
    "plt.xticks(idx, ngrams, rotation=45)\n",
    "plt.show()"
   ]
  },
  {
   "cell_type": "markdown",
   "metadata": {
    "colab_type": "text",
    "id": "IMsPiHdHiS1k"
   },
   "source": [
    "As seen from the plot above, the majority of words are stopwords. Those bring no value to our model since they do not represent the sentence's context. Using gensim preprocessing and Keras utilities, we will load the reviews corpus into a dictionary and tokenize them. The process consists of the following steps:\n",
    "\n",
    "1. Simple preprocessing: excluding stopwords, punctuations, removing tags (\"<i\\>\", \"<br\\>\") etc.\n",
    "2. Tokenization: assign each word with an id.\n",
    "3. Sequence padding: this step is needed for the model training. As observed, the average length of reviews is 500, hence we will set a max length of 500 and pad the sequences with 0 or truncate the sequences whose lengths are greater than max value."
   ]
  },
  {
   "cell_type": "code",
   "execution_count": 0,
   "metadata": {
    "colab": {},
    "colab_type": "code",
    "id": "IYiKkHW1iS1m"
   },
   "outputs": [],
   "source": [
    "#Code acquired and modified from https://machinelearningmastery.com/use-word-embedding-layers-deep-learning-keras/\n",
    "# Returns the padded corpus, tokenizer and size of vocabulary\n",
    "FILTERS = [lambda x: x.lower(), strip_short, strip_tags, strip_punctuation, remove_stopwords, strip_multiple_whitespaces]\n",
    "def preprocessing(X, max_length=500):\n",
    "    \n",
    "    # Tokenize the corpus\n",
    "    corpus = [preprocess_string(doc, FILTERS) for doc in X]\n",
    "\n",
    "    # Create a toknenizer and fit on text\n",
    "    tokenizer = Tokenizer()\n",
    "    tokenizer.fit_on_texts(corpus)\n",
    "    \n",
    "    # Size of corpus' vocabulary\n",
    "    vocab_size = len(tokenizer.word_index) + 1\n",
    "    # integer encode the documents\n",
    "    encoded_docs = tokenizer.texts_to_sequences(corpus)\n",
    "    padded_corpus = pad_sequences(encoded_docs, maxlen=max_length, padding='post')\n",
    "    \n",
    "    return padded_corpus, vocab_size, tokenizer\n",
    "\n",
    "padded_corpus, vocab_size, tokenizer = preprocessing(imdb[\"review\"].values)"
   ]
  },
  {
   "cell_type": "markdown",
   "metadata": {
    "colab_type": "text",
    "id": "MEoRDwcsiS1q"
   },
   "source": [
    "Demonstrating the result of the process. Notice that we have removed all the stopwords, punctuations and tags from the original reviews. The resulting sequence is much shorter than the original while the words order is also maintained."
   ]
  },
  {
   "cell_type": "code",
   "execution_count": 496,
   "metadata": {
    "colab": {
     "base_uri": "https://localhost:8080/",
     "height": 156
    },
    "colab_type": "code",
    "id": "54C2ZvC-iS1r",
    "outputId": "d6f2511a-bda3-4a88-b1df-bd02631b08fc"
   },
   "outputs": [
    {
     "name": "stdout",
     "output_type": "stream",
     "text": [
      "Review: Basically there's a family where a little boy (Jake) thinks there's a zombie in his closet & his parents are fighting all the time.<br /><br />This movie is slower than a soap opera... and suddenly, Jake decides to become Rambo and kill the zombie.<br /><br />OK, first of all when you're going to make a film you must Decide if its a thriller or a drama! As a drama the movie is watchable. Parents are divorcing & arguing like in real life. And then we have Jake with his closet which totally ruins all the film! I expected to see a BOOGEYMAN similar movie, and instead i watched a drama with some meaningless thriller spots.<br /><br />3 out of 10 just for the well playing parents & descent dialogs. As for the shots with Jake: just ignore them.\n",
      "\n",
      "Preprocessed review: ['basically', 's', 'family', 'little', 'boy', 'jake', 'thinks', 's', 'zombie', 'closet', 'parents', 'fighting', 'time', 'movie', 'slower', 'soap', 'opera', 'suddenly', 'jake', 'decides', 'rambo', 'kill', 'zombie', 'ok', 'going', 'film', 'decide', 'thriller', 'drama', 'drama', 'movie', 'watchable', 'parents', 'divorcing', 'arguing', 'like', 'real', 'life', 'jake', 'closet', 'totally', 'ruins', 'film', 'expected', 'boogeyman', 'similar', 'movie', 'instead', 'watched', 'drama', 'meaningless', 'thriller', 'spots', '3', 'playing', 'parents', 'descent', 'dialogs', 'shots', 'jake', 'ignore']\n",
      "\n",
      "Sequence [ 462    1   79   26  215 3053  991    1  743 3910  537  740    7    2\n",
      " 7510 1540 1030  859 3053  836 5159  297  743  654   46]\n",
      "\n"
     ]
    }
   ],
   "source": [
    "# Example of padded sequence\n",
    "sen = imdb[\"review\"].values[3] \n",
    "print(\"Review: {}\\n\".format(sen))\n",
    "print(\"Preprocessed review: {}\\n\".format(preprocess_string(sen, FILTERS)))\n",
    "print(\"Sequence {}\\n\".format(padded_corpus[3][:25]))"
   ]
  },
  {
   "cell_type": "markdown",
   "metadata": {
    "colab_type": "text",
    "id": "GnvXzAL6iS1w"
   },
   "source": [
    "## GloVe embeddings\n",
    "\n",
    "We will use the pre-trained GloVe embeddings for this project. The embeddings can be acquired from [here](https://nlp.stanford.edu/projects/glove/). Upon unarchiving, we can see that there are 4 different files. Each file contains the embeddings for 400000 words with different vector size. We will use the embeddings with 200 dimensions to train the model. Below is the embeddings for some words."
   ]
  },
  {
   "cell_type": "code",
   "execution_count": 9,
   "metadata": {
    "colab": {
     "base_uri": "https://localhost:8080/",
     "height": 34
    },
    "colab_type": "code",
    "id": "TEnk5RXyiS1x",
    "outputId": "e4cac5e2-07b2-45d5-df1c-c8f2cdb6fcf6"
   },
   "outputs": [
    {
     "name": "stdout",
     "output_type": "stream",
     "text": [
      "Loaded 400000 word vectors.\n"
     ]
    }
   ],
   "source": [
    "from numpy import asarray\n",
    "from numpy import zeros\n",
    "\n",
    "embeddings_index = dict()\n",
    "f = open('glove.6B.200d.txt')\n",
    "for line in f:\n",
    "    values = line.split()\n",
    "    word = values[0]\n",
    "    coefs = asarray(values[1:], dtype='float32')\n",
    "    embeddings_index[word] = coefs\n",
    "f.close()\n",
    "print('Loaded %s word vectors.' % len(embeddings_index))\n"
   ]
  },
  {
   "cell_type": "code",
   "execution_count": 498,
   "metadata": {
    "colab": {
     "base_uri": "https://localhost:8080/",
     "height": 68
    },
    "colab_type": "code",
    "id": "fblD4eeSiS12",
    "outputId": "4fe35fb9-4d0c-46ab-dc16-8c9e321b379c"
   },
   "outputs": [
    {
     "name": "stdout",
     "output_type": "stream",
     "text": [
      "film: [-0.071549  0.093459  0.023738 -0.090339  0.056123]\n",
      "wonderful: [-0.071549  0.093459  0.023738 -0.090339  0.056123]\n",
      "terible: [-0.071549  0.093459  0.023738 -0.090339  0.056123]\n"
     ]
    }
   ],
   "source": [
    "print(\"{}: {}\".format(\"film\",embeddings_index[\"the\"][0:5])) \n",
    "print(\"{}: {}\".format(\"wonderful\",embeddings_index[\"the\"][0:5])) \n",
    "print(\"{}: {}\".format(\"terible\",embeddings_index[\"the\"][0:5])) "
   ]
  },
  {
   "cell_type": "markdown",
   "metadata": {
    "colab_type": "text",
    "id": "u0lMEBmBiS17"
   },
   "source": [
    "We will then assign the weights to our vocabulary. The results will be a weights matrix of size <b>(vocab_size,200)</b>, in which <b>vocab_size</b> being the number of distinct tokens from our processed sequences."
   ]
  },
  {
   "cell_type": "code",
   "execution_count": 0,
   "metadata": {
    "colab": {},
    "colab_type": "code",
    "id": "ddSvXNt-iS18"
   },
   "outputs": [],
   "source": [
    "tokenizer.word_index.items()\n",
    "vocab_size = len(tokenizer.word_index) +1\n",
    "weights = np.zeros((vocab_size, 200), dtype=float)\n",
    "\n",
    "for word, i in tokenizer.word_index.items():\n",
    "    embedding_vector = embeddings_index.get(word)\n",
    "    if embedding_vector is not None:\n",
    "        weights[i] = embedding_vector"
   ]
  },
  {
   "cell_type": "markdown",
   "metadata": {
    "colab_type": "text",
    "id": "5a51_xoRiS2A"
   },
   "source": [
    "## Train/Test splitting"
   ]
  },
  {
   "cell_type": "code",
   "execution_count": 0,
   "metadata": {
    "colab": {},
    "colab_type": "code",
    "id": "91TQU4D-iS2B"
   },
   "outputs": [],
   "source": [
    "trains = padded_corpus\n",
    "targets = imdb[\"sentiment\"]\n",
    "\n",
    "X_train,X_test, y_train, y_test = train_test_split(trains, targets, test_size=0.2)"
   ]
  },
  {
   "cell_type": "code",
   "execution_count": 501,
   "metadata": {
    "colab": {
     "base_uri": "https://localhost:8080/",
     "height": 51
    },
    "colab_type": "code",
    "id": "osOaqJLLiS2K",
    "outputId": "d2d3ddf5-cdc1-4386-9fb0-14d948d573e8"
   },
   "outputs": [
    {
     "name": "stdout",
     "output_type": "stream",
     "text": [
      "Training samples: 40000\n",
      "Test samples: 10000\n"
     ]
    }
   ],
   "source": [
    "print(\"Training samples:\", len(X_train))\n",
    "print(\"Test samples:\", len(X_test))"
   ]
  },
  {
   "cell_type": "markdown",
   "metadata": {
    "colab_type": "text",
    "id": "XcSe9B6eiS2N"
   },
   "source": [
    "# Models\n",
    "\n",
    "Using pyTorch, we will perform a sentiment analysis on the IMDB dataset with a Recurrent Neural Network. There are 2 approaches to tackle this task. Firstly, we can use our processed corpus to train the Embedding layer of the network. Secondly, we can simply use the pre-trained GloVe embeddings to pass into the layer. Typically, training on top of a pre-trained embeddings often leads to a better result but we can evaluate both scenarios to see what works best for our problem."
   ]
  },
  {
   "cell_type": "markdown",
   "metadata": {
    "colab_type": "text",
    "id": "X2ic8FFqvDkL"
   },
   "source": [
    "## Original model"
   ]
  },
  {
   "cell_type": "markdown",
   "metadata": {
    "colab_type": "text",
    "id": "FiZkW4G9iS2S"
   },
   "source": [
    "### Setup\n",
    "This model takes as input the padded corpus and train its embedding layer. We will use a Sequential Keras model with the following layers:\n",
    "1. Embedding layer: this layer will take in the padded corpus and assign weights to the token. The layer will output the dense vectors for all the words in our corpus.\n",
    "2. Flatten layer: simply flatten the <b>(vocab size, embedding dimesion)</b> matrix to a 1D <b>(vocab size*embedding dimesion</b>). This step prepares an approriate input for the Dense layer.\n",
    "3. Dense layer: Output a 1D vector which we will use to evaluate against the true labels.\n",
    "\n",
    "Since we are tackling a binary classification problem, the <b>binary-cross entropy loss</b> is employed to compute the output loss. It simply computes the probability of an output and determine whethere this review is a positive one or not. The formula is as follows: \n",
    "                <center>$−(𝑦log(𝑝)+(1−𝑦)log(1−𝑝))$</center>\n",
    "\n",
    "in which:\n",
    "\n",
    "<i>p</i>: probability this review is positive\n",
    " \n",
    "<i>y</i>: binary indicator (1 for positive, 0 for negative)"
   ]
  },
  {
   "cell_type": "code",
   "execution_count": 502,
   "metadata": {
    "colab": {
     "base_uri": "https://localhost:8080/",
     "height": 541
    },
    "colab_type": "code",
    "id": "uadxgfMyiS2X",
    "outputId": "7db55bb4-ece9-44fe-f23f-661273744de9"
   },
   "outputs": [
    {
     "name": "stdout",
     "output_type": "stream",
     "text": [
      "Model: \"sequential_12\"\n",
      "_________________________________________________________________\n",
      "Layer (type)                 Output Shape              Param #   \n",
      "=================================================================\n",
      "embedding_10 (Embedding)     (None, 500, 200)          20906800  \n",
      "_________________________________________________________________\n",
      "flatten_10 (Flatten)         (None, 100000)            0         \n",
      "_________________________________________________________________\n",
      "dense_10 (Dense)             (None, 1)                 100001    \n",
      "=================================================================\n",
      "Total params: 21,006,801\n",
      "Trainable params: 21,006,801\n",
      "Non-trainable params: 0\n",
      "_________________________________________________________________\n",
      "None\n"
     ]
    },
    {
     "name": "stderr",
     "output_type": "stream",
     "text": [
      "/usr/local/lib/python3.6/dist-packages/tensorflow/python/framework/indexed_slices.py:434: UserWarning: Converting sparse IndexedSlices to a dense Tensor of unknown shape. This may consume a large amount of memory.\n",
      "  \"Converting sparse IndexedSlices to a dense Tensor of unknown shape. \"\n"
     ]
    },
    {
     "ename": "TypeError",
     "evalue": "ignored",
     "output_type": "error",
     "traceback": [
      "\u001b[0;31m---------------------------------------------------------------------------\u001b[0m",
      "\u001b[0;31mTypeError\u001b[0m                                 Traceback (most recent call last)",
      "\u001b[0;32m<ipython-input-502-48c9eb8a65aa>\u001b[0m in \u001b[0;36m<module>\u001b[0;34m()\u001b[0m\n\u001b[1;32m     18\u001b[0m \u001b[0morig_model_json\u001b[0m \u001b[0;34m=\u001b[0m \u001b[0morig_model\u001b[0m\u001b[0;34m.\u001b[0m\u001b[0mto_json\u001b[0m\u001b[0;34m(\u001b[0m\u001b[0;34m)\u001b[0m\u001b[0;34m\u001b[0m\u001b[0;34m\u001b[0m\u001b[0m\n\u001b[1;32m     19\u001b[0m \u001b[0;32mwith\u001b[0m \u001b[0mopen\u001b[0m\u001b[0;34m(\u001b[0m\u001b[0;34m\"orig_model.json\"\u001b[0m\u001b[0;34m,\u001b[0m \u001b[0;34m\"w\"\u001b[0m\u001b[0;34m)\u001b[0m \u001b[0;32mas\u001b[0m \u001b[0mjson_file\u001b[0m\u001b[0;34m:\u001b[0m\u001b[0;34m\u001b[0m\u001b[0;34m\u001b[0m\u001b[0m\n\u001b[0;32m---> 20\u001b[0;31m     \u001b[0mjson_file\u001b[0m\u001b[0;34m.\u001b[0m\u001b[0mwrite\u001b[0m\u001b[0;34m(\u001b[0m\u001b[0morig_model\u001b[0m\u001b[0;34m)\u001b[0m\u001b[0;34m\u001b[0m\u001b[0;34m\u001b[0m\u001b[0m\n\u001b[0m\u001b[1;32m     21\u001b[0m \u001b[0;31m# serialize weights to HDF5\u001b[0m\u001b[0;34m\u001b[0m\u001b[0;34m\u001b[0m\u001b[0;34m\u001b[0m\u001b[0m\n\u001b[1;32m     22\u001b[0m \u001b[0morig_model\u001b[0m\u001b[0;34m.\u001b[0m\u001b[0msave_weights\u001b[0m\u001b[0;34m(\u001b[0m\u001b[0;34m\"orig_model.h5\"\u001b[0m\u001b[0;34m)\u001b[0m\u001b[0;34m\u001b[0m\u001b[0;34m\u001b[0m\u001b[0m\n",
      "\u001b[0;31mTypeError\u001b[0m: write() argument must be str, not Sequential"
     ]
    }
   ],
   "source": [
    "#Credit: https://machinelearningmastery.com/use-word-embedding-layers-deep-learning-keras/\n",
    "EMBEDDING_DIM = 200\n",
    "MAX_LENGTH = 500\n",
    "\n",
    "# define model\n",
    "orig_model = Sequential()\n",
    "e = Embedding(vocab_size, EMBEDDING_DIM, input_length=MAX_LENGTH)\n",
    "orig_model.add(e)\n",
    "orig_model.add(Flatten())\n",
    "orig_model.add(Dense(1, activation='sigmoid'))\n",
    "# compile the model\n",
    "orig_model.compile(optimizer='adam', loss='binary_crossentropy', metrics=['accuracy'])\n",
    "# summarize the model\n",
    "print(orig_model.summary())\n",
    "# fit the model\n",
    "history = orig_model.fit(X_train, y_train, epochs=50, verbose=0)"
   ]
  },
  {
   "cell_type": "code",
   "execution_count": 504,
   "metadata": {
    "colab": {
     "base_uri": "https://localhost:8080/",
     "height": 34
    },
    "colab_type": "code",
    "id": "AqE2RrPla2am",
    "outputId": "bea3cf06-4a8f-4d63-a15d-c6af33f2650c"
   },
   "outputs": [
    {
     "name": "stdout",
     "output_type": "stream",
     "text": [
      "Saved model to disk\n"
     ]
    }
   ],
   "source": [
    "\n",
    "# serialize model to JSON\n",
    "orig_model_json = orig_model.to_json()\n",
    "with open(\"orig_model.json\", \"w\") as json_file:\n",
    "    json_file.write(orig_model_json)\n",
    "# serialize weights to HDF5\n",
    "orig_model.save_weights(\"orig_model.h5\")\n",
    "print(\"Saved model to disk\")"
   ]
  },
  {
   "cell_type": "markdown",
   "metadata": {
    "colab_type": "text",
    "id": "0616nSE2n2Er"
   },
   "source": [
    "### Evaluation\n",
    "Evaluating the model on train data, we achieve an accuracy of 99.9%. The model does not perform particularly well on test data with an accuracy of around 80%. The ROC curve reveals the same information with the test curve being close to the middle baseline."
   ]
  },
  {
   "cell_type": "code",
   "execution_count": 515,
   "metadata": {
    "colab": {
     "base_uri": "https://localhost:8080/",
     "height": 51
    },
    "colab_type": "code",
    "id": "2c-nNZjWoBEg",
    "outputId": "fb739e4e-ff04-4152-a972-d77c7b0bff3d"
   },
   "outputs": [
    {
     "name": "stdout",
     "output_type": "stream",
     "text": [
      "Train accuracy: 99.997503\n",
      "Test accuracy: 84.289998\n"
     ]
    }
   ],
   "source": [
    "# evaluate the model\n",
    "loss, accuracy = orig_model.evaluate(X_train, y_train, verbose=0)\n",
    "print('Train accuracy: %f' % (accuracy*100))\n",
    "loss, accuracy = orig_model.evaluate(X_test, y_test, verbose=0)\n",
    "print('Test accuracy: %f' % (accuracy*100))"
   ]
  },
  {
   "cell_type": "code",
   "execution_count": 516,
   "metadata": {
    "colab": {
     "base_uri": "https://localhost:8080/",
     "height": 388
    },
    "colab_type": "code",
    "id": "Mmw0G-I1uCVv",
    "outputId": "bd851a81-4efa-4d0c-fe6d-6df1d2a7e999"
   },
   "outputs": [
    {
     "data": {
      "image/png": "[encoded data removed]",
      "text/plain": [
       "<Figure size 648x432 with 1 Axes>"
      ]
     },
     "metadata": {
      "needs_background": "light",
      "tags": []
     },
     "output_type": "display_data"
    }
   ],
   "source": [
    "train_preds = orig_model.predict_proba(X_train)\n",
    "test_preds = orig_model.predict_proba(X_test)\n",
    "\n",
    "ns_fpr, ns_tpr, _ = roc_curve(y_train, train_preds)\n",
    "lr_fpr, lr_tpr, _ = roc_curve(y_test, test_preds)\n",
    "baseline = ns_probs = [0 for _ in range(len(y_test))]\n",
    "\n",
    "plt.figure(figsize=(9, 6))\n",
    "# plot the roc curve for the model\n",
    "plt.plot(ns_fpr, ns_tpr, linestyle='--', label='Train')\n",
    "plt.plot(lr_fpr, lr_tpr, marker='.', label='Test')\n",
    "\n",
    "# axis labels\n",
    "plt.xlabel('False Positive Rate')\n",
    "plt.ylabel('True Positive Rate')\n",
    "# show the legend\n",
    "plt.legend()\n",
    "# show the plot\n",
    "plt.show()"
   ]
  },
  {
   "cell_type": "markdown",
   "metadata": {
    "colab_type": "text",
    "id": "8OtWJz_KpslF"
   },
   "source": [
    "### Nearest neighbours\n",
    "\n",
    "We have acquired a set of embeddings after training the model. Let's perform some sanity checks to see if they are semantically meaningful. We will evaluate the words' similarity using cosine distance."
   ]
  },
  {
   "cell_type": "code",
   "execution_count": 24,
   "metadata": {
    "colab": {
     "base_uri": "https://localhost:8080/",
     "height": 181
    },
    "colab_type": "code",
    "id": "XKWo1aP_gYpl",
    "outputId": "5f4695f6-7566-4ab2-d6ba-7671bfc83f16"
   },
   "outputs": [
    {
     "ename": "NameError",
     "evalue": "ignored",
     "output_type": "error",
     "traceback": [
      "\u001b[0;31m---------------------------------------------------------------------------\u001b[0m",
      "\u001b[0;31mNameError\u001b[0m                                 Traceback (most recent call last)",
      "\u001b[0;32m<ipython-input-24-31c6ec848966>\u001b[0m in \u001b[0;36m<module>\u001b[0;34m()\u001b[0m\n\u001b[0;32m----> 1\u001b[0;31m \u001b[0membeddings\u001b[0m \u001b[0;34m=\u001b[0m \u001b[0me\u001b[0m\u001b[0;34m.\u001b[0m\u001b[0mget_weights\u001b[0m\u001b[0;34m(\u001b[0m\u001b[0;34m)\u001b[0m\u001b[0;34m[\u001b[0m\u001b[0;36m0\u001b[0m\u001b[0;34m]\u001b[0m\u001b[0;34m\u001b[0m\u001b[0;34m\u001b[0m\u001b[0m\n\u001b[0m\u001b[1;32m      2\u001b[0m \u001b[0mlearned_embeddings\u001b[0m \u001b[0;34m=\u001b[0m \u001b[0;34m{\u001b[0m\u001b[0mw\u001b[0m\u001b[0;34m:\u001b[0m\u001b[0membeddings\u001b[0m\u001b[0;34m[\u001b[0m\u001b[0midx\u001b[0m\u001b[0;34m]\u001b[0m \u001b[0;32mfor\u001b[0m \u001b[0mw\u001b[0m\u001b[0;34m,\u001b[0m \u001b[0midx\u001b[0m \u001b[0;32min\u001b[0m \u001b[0mtokenizer\u001b[0m\u001b[0;34m.\u001b[0m\u001b[0mword_index\u001b[0m\u001b[0;34m.\u001b[0m\u001b[0mitems\u001b[0m\u001b[0;34m(\u001b[0m\u001b[0;34m)\u001b[0m\u001b[0;34m}\u001b[0m\u001b[0;34m\u001b[0m\u001b[0;34m\u001b[0m\u001b[0m\n",
      "\u001b[0;31mNameError\u001b[0m: name 'e' is not defined"
     ]
    }
   ],
   "source": [
    "embeddings = e.get_weights()[0]\n",
    "learned_embeddings = {w:embeddings[idx] for w, idx in tokenizer.word_index.items()}"
   ]
  },
  {
   "cell_type": "code",
   "execution_count": 0,
   "metadata": {
    "colab": {},
    "colab_type": "code",
    "id": "WJGAHJr8itVZ"
   },
   "outputs": [],
   "source": [
    "from operator import itemgetter\n",
    "def cosine_similarity(src, dst):\n",
    "    cosine_similarity = np.dot(src, dst)/(np.linalg.norm(src)* np.linalg.norm(dst))\n",
    "    return cosine_similarity\n",
    "\n",
    "def most_similar(src, embeddings, top=3):\n",
    "    similarities = []\n",
    "    for word in embeddings:\n",
    "        if word != src:\n",
    "            cos_sim = cosine_similarity(embeddings[src], embeddings[word])\n",
    "            similarities.append((word, cos_sim))\n",
    "    return sorted(similarities,key=itemgetter(1), reverse=True)[:top]\n",
    "\n",
    "def words_analogy(w1,w2,w3, embeddings, top=3):\n",
    "\n",
    "    if w1 not in embeddings:\n",
    "        print(\"Cant find {}\".format(w1))\n",
    "        return \"<empty>\"\n",
    "    if w2 not in embeddings:\n",
    "        print(\"Cant find {}\".format(w2))\n",
    "        return \"<empty>\"\n",
    "    if w3 not in embeddings:\n",
    "        print(\"Cant find {}\".format(w3))\n",
    "        return \"<empty>\"\n",
    "    \n",
    "    similarities = []\n",
    "    v = embeddings[w1] - embeddings[w2] + embeddings[w3]\n",
    "    for word in embeddings:\n",
    "        if word != w1 and word != w2 and word != w3:\n",
    "            cos_sim = cosine_similarity(v, embeddings[word])\n",
    "            similarities.append((word, cos_sim))\n",
    "    return sorted(similarities,key=itemgetter(1), reverse=True)[:top]  \n",
    "\n",
    "def most_similar_words(vector, embeddings, top=3):\n",
    "    similarities = []\n",
    "    for word in embeddings:\n",
    "        cos_sim = cosine_similarity(vector, embeddings[word])\n",
    "        similarities.append((word, cos_sim))\n",
    "    return sorted(similarities,key=itemgetter(1), reverse=True)[:top]\n",
    "      "
   ]
  },
  {
   "cell_type": "code",
   "execution_count": 509,
   "metadata": {
    "colab": {
     "base_uri": "https://localhost:8080/",
     "height": 102
    },
    "colab_type": "code",
    "id": "Eq2udWl_whSX",
    "outputId": "2d3960b4-9c97-4e40-d77c-d2cdaddf4e60"
   },
   "outputs": [
    {
     "name": "stdout",
     "output_type": "stream",
     "text": [
      "Word similarities:\n",
      "\n",
      "movie: [('gods', 0.44475925), ('ladies', 0.39626837), ('newest', 0.39573383)]\n",
      "actor: [('assailant', 0.48430166), ('radko', 0.47733304), ('agatha', 0.45624617)]\n",
      "comedy: [('conveying', 0.43724343), ('binging', 0.37571022), ('tribeca', 0.3715757)]\n"
     ]
    }
   ],
   "source": [
    "print(\"Word similarities:\\n\")\n",
    "print(\"movie: {}\".format(most_similar(\"movie\", learned_embeddings)))\n",
    "print(\"actor: {}\".format(most_similar(\"actor\", learned_embeddings)))\n",
    "print(\"comedy: {}\".format(most_similar(\"comedy\", learned_embeddings)))"
   ]
  },
  {
   "cell_type": "markdown",
   "metadata": {
    "colab_type": "text",
    "id": "0vVh-pAI3rYG"
   },
   "source": [
    "We can see that the neighbour words are not particularly meaningful. This is mostly due to our limited vocabulary with only 100000 tokens. However, we can easily improve the embeddings by training our model on a much larger corpus."
   ]
  },
  {
   "cell_type": "markdown",
   "metadata": {
    "colab_type": "text",
    "id": "UMrVkOSO5caJ"
   },
   "source": [
    "## Pre-trained GloVe model\n",
    "\n",
    "Using the above architecture, we will again train our model with the dataset. However, instead of making the models learn the embeddings, we will apply the pre-trained GloVe models in the Embedding layer"
   ]
  },
  {
   "cell_type": "markdown",
   "metadata": {
    "colab_type": "text",
    "id": "bMf75oC15-fk"
   },
   "source": [
    "### Setup"
   ]
  },
  {
   "cell_type": "code",
   "execution_count": 510,
   "metadata": {
    "colab": {
     "base_uri": "https://localhost:8080/",
     "height": 272
    },
    "colab_type": "code",
    "id": "yvuHx-G34_hM",
    "outputId": "005b75ba-3e43-47ea-9d73-44b387ef35e0"
   },
   "outputs": [
    {
     "name": "stdout",
     "output_type": "stream",
     "text": [
      "Model: \"sequential_11\"\n",
      "_________________________________________________________________\n",
      "Layer (type)                 Output Shape              Param #   \n",
      "=================================================================\n",
      "embedding_9 (Embedding)      (None, 500, 200)          20906800  \n",
      "_________________________________________________________________\n",
      "flatten_9 (Flatten)          (None, 100000)            0         \n",
      "_________________________________________________________________\n",
      "dense_9 (Dense)              (None, 1)                 100001    \n",
      "=================================================================\n",
      "Total params: 21,006,801\n",
      "Trainable params: 100,001\n",
      "Non-trainable params: 20,906,800\n",
      "_________________________________________________________________\n",
      "None\n"
     ]
    }
   ],
   "source": [
    "#Credit: https://machinelearningmastery.com/use-word-embedding-layers-deep-learning-keras/\n",
    "EMBEDDING_DIM = 200\n",
    "MAX_LENGTH = 500\n",
    "\n",
    "# define model\n",
    "glove_model = Sequential()\n",
    "e = Embedding(vocab_size, EMBEDDING_DIM, weights=[weights], input_length=MAX_LENGTH, trainable=False)\n",
    "glove_model.add(e)\n",
    "glove_model.add(Flatten())\n",
    "glove_model.add(Dense(1, activation='sigmoid'))\n",
    "# compile the model\n",
    "glove_model.compile(optimizer='adam', loss='binary_crossentropy', metrics=['accuracy'])\n",
    "# summarize the model\n",
    "print(model.summary())\n",
    "# fit the model\n",
    "history = glove_model.fit(X_train, y_train, epochs=50, verbose=0)"
   ]
  },
  {
   "cell_type": "code",
   "execution_count": 512,
   "metadata": {
    "colab": {
     "base_uri": "https://localhost:8080/",
     "height": 34
    },
    "colab_type": "code",
    "id": "AsKT60KOa9Mq",
    "outputId": "a57830fa-8ed7-4d36-a180-4b465df4cf34"
   },
   "outputs": [
    {
     "name": "stdout",
     "output_type": "stream",
     "text": [
      "Saved model to disk\n"
     ]
    }
   ],
   "source": [
    "\n",
    "# serialize model to JSON\n",
    "glove_model_json = glove_model.to_json()\n",
    "with open(\"glove_model.json\", \"w\") as json_file:\n",
    "    json_file.write(glove_model_json)\n",
    "# serialize weights to HDF5\n",
    "glove_model.save_weights(\"glove_model.h5\")\n",
    "print(\"Saved model to disk\")"
   ]
  },
  {
   "cell_type": "markdown",
   "metadata": {
    "colab_type": "text",
    "id": "kQEdyPraUsmY"
   },
   "source": [
    "The number of trainable params is significantly lower because we do not have to train the embeddings from scratch."
   ]
  },
  {
   "cell_type": "markdown",
   "metadata": {
    "colab_type": "text",
    "id": "2wNhkO4F9p7q"
   },
   "source": [
    "### Evaluation"
   ]
  },
  {
   "cell_type": "code",
   "execution_count": 517,
   "metadata": {
    "colab": {
     "base_uri": "https://localhost:8080/",
     "height": 51
    },
    "colab_type": "code",
    "id": "HwsBUeli5Y4I",
    "outputId": "628b8ced-48af-4fe4-d6c8-0f792141bc97"
   },
   "outputs": [
    {
     "name": "stdout",
     "output_type": "stream",
     "text": [
      "Train accuracy: 99.742502\n",
      "Test accuracy: 73.400003\n"
     ]
    }
   ],
   "source": [
    "# evaluate the model\n",
    "loss, accuracy = glove_model.evaluate(X_train, y_train, verbose=0)\n",
    "print('Train accuracy: %f' % (accuracy*100))\n",
    "loss, accuracy = glove_model.evaluate(X_test, y_test, verbose=0)\n",
    "print('Test accuracy: %f' % (accuracy*100))"
   ]
  },
  {
   "cell_type": "code",
   "execution_count": 518,
   "metadata": {
    "colab": {
     "base_uri": "https://localhost:8080/",
     "height": 388
    },
    "colab_type": "code",
    "id": "yCsn2Zp7-JGh",
    "outputId": "120dbc35-0c2e-471c-8464-cb0aaabdffbd"
   },
   "outputs": [
    {
     "data": {
      "image/png": "[encoded data removed]",
      "text/plain": [
       "<Figure size 648x432 with 1 Axes>"
      ]
     },
     "metadata": {
      "needs_background": "light",
      "tags": []
     },
     "output_type": "display_data"
    }
   ],
   "source": [
    "train_preds = glove_model.predict_proba(X_train)\n",
    "test_preds = glove_model.predict_proba(X_test)\n",
    "\n",
    "ns_fpr, ns_tpr, _ = roc_curve(y_train, train_preds)\n",
    "lr_fpr, lr_tpr, _ = roc_curve(y_test, test_preds)\n",
    "baseline = ns_probs = [0 for _ in range(len(y_test))]\n",
    "\n",
    "plt.figure(figsize=(9, 6))\n",
    "# plot the roc curve for the model\n",
    "plt.plot(ns_fpr, ns_tpr, linestyle='--', label='Train')\n",
    "plt.plot(lr_fpr, lr_tpr, marker='.', label='Test')\n",
    "\n",
    "# axis labels\n",
    "plt.xlabel('False Positive Rate')\n",
    "plt.ylabel('True Positive Rate')\n",
    "# show the legend\n",
    "plt.legend()\n",
    "# show the plot\n",
    "plt.show()"
   ]
  },
  {
   "cell_type": "markdown",
   "metadata": {
    "colab_type": "text",
    "id": "xVkW8NPZ9uLy"
   },
   "source": [
    "### Analogical reasoning"
   ]
  },
  {
   "cell_type": "code",
   "execution_count": 519,
   "metadata": {
    "colab": {
     "base_uri": "https://localhost:8080/",
     "height": 102
    },
    "colab_type": "code",
    "id": "nHSOJqax6x_N",
    "outputId": "d99394d3-4b10-49c7-cf7d-4ace2508f8b3"
   },
   "outputs": [
    {
     "name": "stdout",
     "output_type": "stream",
     "text": [
      "Word similarities:\n",
      "\n",
      "movie: [('film', 0.88180614), ('movies', 0.8750335), ('films', 0.8414647)]\n",
      "actor: [('actress', 0.75105745), ('starring', 0.7424192), ('actors', 0.7176447)]\n",
      "comedy: [('comedies', 0.7667165), ('sitcom', 0.74692607), ('drama', 0.738278)]\n"
     ]
    }
   ],
   "source": [
    "print(\"Word similarities:\\n\")\n",
    "print(\"movie: {}\".format(most_similar(\"movie\", embeddings_index)))\n",
    "print(\"actor: {}\".format(most_similar(\"actor\", embeddings_index)))\n",
    "print(\"comedy: {}\".format(most_similar(\"comedy\", embeddings_index)))"
   ]
  },
  {
   "cell_type": "markdown",
   "metadata": {
    "colab_type": "text",
    "id": "_VjveG6V89mQ"
   },
   "source": [
    "This time, we can observe that the neighbour words have become more semantically meaningful. GloVe embedding is widely used by researchers so the result does not come as a surprise. We can further evaluate the embeddings on the course's analogical reasoning task. The process is described as follows:\n",
    "1. Take in 4 words. The embeddings for the 3 first words are denoted as <b>(w1, w2, w3)</b>. \n",
    "2. Compute: <b>w = w2 - w1 + w3</b>\n",
    "3. Find the closest vector to <b>w</b>. The word associated with the resulting vector should be analogically close to the group, in this case, <b>w4</b>.\n"
   ]
  },
  {
   "cell_type": "code",
   "execution_count": 520,
   "metadata": {
    "colab": {
     "base_uri": "https://localhost:8080/",
     "height": 204
    },
    "colab_type": "code",
    "id": "EJfp-W3u8hsc",
    "outputId": "12a14708-7291-4834-92ec-754c9c96ba7f"
   },
   "outputs": [
    {
     "data": {
      "text/html": [
       "<div>\n",
       "<style scoped>\n",
       "    .dataframe tbody tr th:only-of-type {\n",
       "        vertical-align: middle;\n",
       "    }\n",
       "\n",
       "    .dataframe tbody tr th {\n",
       "        vertical-align: top;\n",
       "    }\n",
       "\n",
       "    .dataframe thead th {\n",
       "        text-align: right;\n",
       "    }\n",
       "</style>\n",
       "<table border=\"1\" class=\"dataframe\">\n",
       "  <thead>\n",
       "    <tr style=\"text-align: right;\">\n",
       "      <th></th>\n",
       "      <th>0</th>\n",
       "      <th>1</th>\n",
       "      <th>2</th>\n",
       "      <th>3</th>\n",
       "    </tr>\n",
       "  </thead>\n",
       "  <tbody>\n",
       "    <tr>\n",
       "      <th>0</th>\n",
       "      <td>athens</td>\n",
       "      <td>greece</td>\n",
       "      <td>baghdad</td>\n",
       "      <td>iraq</td>\n",
       "    </tr>\n",
       "    <tr>\n",
       "      <th>1</th>\n",
       "      <td>athens</td>\n",
       "      <td>greece</td>\n",
       "      <td>bangkok</td>\n",
       "      <td>thailand</td>\n",
       "    </tr>\n",
       "    <tr>\n",
       "      <th>2</th>\n",
       "      <td>athens</td>\n",
       "      <td>greece</td>\n",
       "      <td>beijing</td>\n",
       "      <td>china</td>\n",
       "    </tr>\n",
       "    <tr>\n",
       "      <th>3</th>\n",
       "      <td>athens</td>\n",
       "      <td>greece</td>\n",
       "      <td>berlin</td>\n",
       "      <td>germany</td>\n",
       "    </tr>\n",
       "    <tr>\n",
       "      <th>4</th>\n",
       "      <td>athens</td>\n",
       "      <td>greece</td>\n",
       "      <td>bern</td>\n",
       "      <td>switzerland</td>\n",
       "    </tr>\n",
       "  </tbody>\n",
       "</table>\n",
       "</div>"
      ],
      "text/plain": [
       "        0       1        2            3\n",
       "0  athens  greece  baghdad         iraq\n",
       "1  athens  greece  bangkok     thailand\n",
       "2  athens  greece  beijing        china\n",
       "3  athens  greece   berlin      germany\n",
       "4  athens  greece     bern  switzerland"
      ]
     },
     "execution_count": 520,
     "metadata": {
      "tags": []
     },
     "output_type": "execute_result"
    }
   ],
   "source": [
    "tasks = pd.read_csv('analogical_reasoning_questions-words.txt', sep=\" \", header=None)\n",
    "tasks = tasks.apply(lambda x: x.astype(str).str.lower())\n",
    "tasks.head()"
   ]
  },
  {
   "cell_type": "code",
   "execution_count": 521,
   "metadata": {
    "colab": {
     "base_uri": "https://localhost:8080/",
     "height": 357
    },
    "colab_type": "code",
    "id": "tMdWq93JBVol",
    "outputId": "071e21f2-5908-4b41-fb08-9ff6bdf9d763"
   },
   "outputs": [
    {
     "name": "stdout",
     "output_type": "stream",
     "text": [
      "jordan - amman + baghdad = iraq\n",
      "switzerland - bern + libreville = gabon\n",
      "afghanistan - kabul + kigali = rwanda\n",
      "slovenia - ljubljana + lusaka = zambia\n",
      "sudan - khartoum + paramaribo = suriname\n",
      "samoa - apia + baghdad = iraq\n",
      "eritrea - asmara + bamako = mali\n",
      "england - london + bern = fribourg\n",
      "turkmenistan - ashgabat + astana = kazakhstan\n",
      "belgium - brussels + lima = peru\n",
      "thailand - bangkok + islamabad = pakistan\n",
      "uganda - kampala + maputo = mozambique\n",
      "hungary - budapest + libreville = gabon\n",
      "greece - athens + oslo = norway\n",
      "gambia - banjul + harare = zimbabwe\n",
      "romania - bucharest + copenhagen = denmark\n",
      "serbia - belgrade + berlin = germany\n",
      "nigeria - abuja + apia = samoa\n",
      "iraq - baghdad + belgrade = yugoslavia\n",
      "vietnam - hanoi + athens = greece\n"
     ]
    }
   ],
   "source": [
    "import random \n",
    "def evaluate(tasks):\n",
    "    for i in range(0,20):\n",
    "        \n",
    "        n = random.randint(1,3000)\n",
    "        doc = tasks.values[n]\n",
    "        w1 = doc[0]\n",
    "        w2 = doc[1]\n",
    "        w3 = doc[2]\n",
    "        result = words_analogy(w2, w1, w3, embeddings_index)\n",
    "        if isinstance(result, str):\n",
    "            print(\"{} - {} + {} = {}\".format(w2, w1, w3, result))\n",
    "        else:\n",
    "            print(\"{} - {} + {} = {}\".format(w2, w1, w3, result[0][0]))\n",
    "\n",
    "evaluate(tasks)    "
   ]
  },
  {
   "cell_type": "markdown",
   "metadata": {
    "colab_type": "text",
    "id": "EKwyNfRqQEPL"
   },
   "source": [
    "We randomized the index and checked 20 random groups. The results were all analogically correct."
   ]
  },
  {
   "cell_type": "markdown",
   "metadata": {
    "colab_type": "text",
    "id": "6djEva1nrCig"
   },
   "source": [
    "# Document similarity\n",
    "\n",
    "Another application of word embeddings is the ability to calculate similarity degree between documents. Some popular methods are described in this [article](https://medium.com/@adriensieg/text-similarities-da019229c894). In this project, we will experiment with the cosine distance based method. The idea is that, given the mean vector of the embeddings forming 2 documents, we can compute the cosine distance between them. A distance close to 1 means that the documents are similar in context and vice versa.\n"
   ]
  },
  {
   "cell_type": "code",
   "execution_count": 25,
   "metadata": {
    "colab": {
     "base_uri": "https://localhost:8080/",
     "height": 34
    },
    "colab_type": "code",
    "id": "FSxZaXY4rA96",
    "outputId": "27b70c28-6fa2-4856-f815-931fc6366a6c"
   },
   "outputs": [
    {
     "data": {
      "text/plain": [
       "0.4625234"
      ]
     },
     "execution_count": 25,
     "metadata": {
      "tags": []
     },
     "output_type": "execute_result"
    }
   ],
   "source": [
    "\n",
    "def document_similarity(d1, d2, embeddings):\n",
    "    v1 = np.mean([embeddings[w] for w in preprocess_string(d1, FILTERS) ], axis=0)\n",
    "    v2 = np.mean([embeddings[w] for w in preprocess_string(d2, FILTERS)], axis=0)\n",
    "    result = cosine_similarity(v1,v2)\n",
    "    return result\n",
    "\n",
    "document_similarity(\"I love it\", \"Fucking hate it\", embeddings_index)\n"
   ]
  },
  {
   "cell_type": "markdown",
   "metadata": {
    "colab_type": "text",
    "id": "2UGiOribBRjX"
   },
   "source": [
    "# Conclusion"
   ]
  },
  {
   "cell_type": "code",
   "execution_count": 0,
   "metadata": {
    "colab": {},
    "colab_type": "code",
    "id": "1YT1neI_ATX-"
   },
   "outputs": [],
   "source": [
    ""
   ]
  },
  {
   "cell_type": "markdown",
   "metadata": {
    "colab_type": "text",
    "id": "amAWVFw8R9Zx"
   },
   "source": [
    "# Appendix"
   ]
  },
  {
   "cell_type": "code",
   "execution_count": 0,
   "metadata": {
    "colab": {},
    "colab_type": "code",
    "id": "tLZ0_9CcR-OV"
   },
   "outputs": [],
   "source": [
    ""
   ]
  },
  {
   "cell_type": "markdown",
   "metadata": {
    "colab_type": "text",
    "id": "99S21dSw2gXR"
   },
   "source": [
    "# References"
   ]
  },
  {
   "cell_type": "code",
   "execution_count": 0,
   "metadata": {
    "colab": {},
    "colab_type": "code",
    "id": "32J8aX_Y2hpy"
   },
   "outputs": [],
   "source": [
    ""
   ]
  }
 ],
 "metadata": {
  "accelerator": "GPU",
  "colab": {
   "collapsed_sections": [],
   "name": "NLP-2020.ipynb",
   "provenance": []
  },
  "kernelspec": {
   "display_name": "Python 3",
   "language": "python",
   "name": "python3"
  },
  "language_info": {
   "codemirror_mode": {
    "name": "ipython",
    "version": 3
   },
   "file_extension": ".py",
   "mimetype": "text/x-python",
   "name": "python",
   "nbconvert_exporter": "python",
   "pygments_lexer": "ipython3",
   "version": "3.7.0"
  },
  "toc": {
   "base_numbering": 1,
   "nav_menu": {},
   "number_sections": true,
   "sideBar": true,
   "skip_h1_title": false,
   "title_cell": "Table of Contents",
   "title_sidebar": "Contents",
   "toc_cell": false,
   "toc_position": {},
   "toc_section_display": true,
   "toc_window_display": false
  }
 },
 "nbformat": 4,
 "nbformat_minor": 0
}
